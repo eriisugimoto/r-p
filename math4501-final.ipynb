{
 "cells": [
  {
   "cell_type": "markdown",
   "metadata": {},
   "source": [
    "# Erii Sugimoto{-}"
   ]
  },
  {
   "cell_type": "markdown",
   "metadata": {},
   "source": [
    "# 1 {-}\n",
    "Let $F$ denote a random variable with F-distribution with F $n$ and $m = 1$ degrees of freedom. \n",
    "<br>\n",
    "Since $m$ is 1, we can see that $F_{n, 1} \\sim \\frac{\\frac{U}{n}}{V}$.\n",
    "It is also known that $t^2_n \\sim (\\frac{Z}{\\sqrt{\\frac{U}{n}}})^2 \\sim F_{1, n}$\n",
    "<br>\n",
    "So we want to show that $F_{\\alpha, n, 1}F_{\\frac{\\alpha}{2},1, n} = 1$ for any $\\alpha \\in$ (0, 1) and any $n \\in N$\n",
    "<br>\n",
    "$P(F \\leq F_{\\alpha, n, 1}) = \\alpha $ $\\quad \\rightarrow \\quad$ $P(\\frac{1}{F} \\geq \\frac{1}{F_{a, n, 1}}) = \\alpha $\n",
    "<br>\n",
    "$P(\\frac{1}{F} \\leq \\frac{1}{F_{\\frac{\\alpha}{2}, n, 1}}) = \\frac{\\alpha}{2} $\n",
    "<br>\n",
    "$P(\\frac{1}{F} \\leq F_{\\frac{\\alpha}{2}, 1, n}) = \\frac{\\alpha}{2}$ \n",
    "<br>\n",
    "We want to show  $\\frac{1}{F_{\\alpha, n, 1}} = F_{\\frac{\\alpha}{2},1, n}$\n"
   ]
  },
  {
   "cell_type": "markdown",
   "metadata": {},
   "source": [
    "# 2 {-}"
   ]
  },
  {
   "cell_type": "markdown",
   "metadata": {},
   "source": [
    "## (a) {-}\n",
    "Let x denote body temperature, let Y denote heart rate at rest, and let n the size of x and Y which is 65. We are assuming that the paired data satisy the assumptions of the linear model. We find the maximum likelihood estimate $\\hat{\\beta_1}$ which we calculate by the given formula:\n",
    "<br>\n",
    "<br>\n",
    "\\begin{align}\n",
    "\\hat{\\beta_1} = \\frac{n\\sum_{i=1}^{n}x_iY_i - (\\sum_{i=1}^{n}x_i)(\\sum_{i=1}^{n}Y_i)}{n(\\sum_{i=1}^{n}x^2_i) - (\\sum_{i=1}^{n}x_i)} = 2.9738121537356\n",
    "\\end{align}\n"
   ]
  },
  {
   "cell_type": "code",
   "execution_count": 148,
   "metadata": {},
   "outputs": [
    {
     "data": {
      "text/html": [
       "65"
      ],
      "text/latex": [
       "65"
      ],
      "text/markdown": [
       "65"
      ],
      "text/plain": [
       "[1] 65"
      ]
     },
     "metadata": {},
     "output_type": "display_data"
    },
    {
     "data": {
      "text/html": [
       "2.9738121537356"
      ],
      "text/latex": [
       "2.9738121537356"
      ],
      "text/markdown": [
       "2.9738121537356"
      ],
      "text/plain": [
       "[1] 2.973812"
      ]
     },
     "metadata": {},
     "output_type": "display_data"
    }
   ],
   "source": [
    "www = \"http://userhome.brooklyn.cuny.edu/cbenes/TempHeartRateF.txt\"\n",
    "f_data = read.table(www)\n",
    "\n",
    "x = f_data[,1]\n",
    "Y = f_data[,2]\n",
    "\n",
    "n = length(x)\n",
    "n\n",
    "\n",
    "b1 = (n * sum(x * Y) - sum(x) * sum(Y)) / (n * sum(x^2) - (sum(x))^2)\n",
    "b1\n",
    "\n"
   ]
  },
  {
   "cell_type": "markdown",
   "metadata": {},
   "source": [
    "## (b) {-}\n",
    "A 95% prediction interval for Y at a body temperature of 100 degrees Fahrenheit is given by:\n",
    "<br>\n",
    "$(\\hat{y} - w, \\hat{y} + w) = (62.4228333367053, 95.1607355509869)$\n",
    "<br>\n",
    "where \n",
    "$w = t_{\\frac{\\alpha}{2}, n-2} S\\sqrt{1 + \\frac{1}{n} + \\frac{(x - \\bar{x})^2}{\\sum_{i=1}^{n}((x_i - \\bar{x})^2}} = 16.3689511071408$\n",
    "<br>\n",
    "$\\hat{y} = \\hat{\\beta_0} + \\hat{\\beta_1}x = 78.7917844438461$\n",
    "<br>\n",
    "where\n",
    "$\\hat{\\beta_0} = \\frac{\\sum_{i=1}^{n}y_i - \\hat{\\beta_1}\\sum_{i=1}^{n}x_i}{n} = -218.589430929714$"
   ]
  },
  {
   "cell_type": "code",
   "execution_count": 149,
   "metadata": {},
   "outputs": [
    {
     "data": {
      "text/html": [
       "-218.589430929714"
      ],
      "text/latex": [
       "-218.589430929714"
      ],
      "text/markdown": [
       "-218.589430929714"
      ],
      "text/plain": [
       "[1] -218.5894"
      ]
     },
     "metadata": {},
     "output_type": "display_data"
    },
    {
     "data": {
      "text/html": [
       "61.6527186734794"
      ],
      "text/latex": [
       "61.6527186734794"
      ],
      "text/markdown": [
       "61.6527186734794"
      ],
      "text/plain": [
       "[1] 61.65272"
      ]
     },
     "metadata": {},
     "output_type": "display_data"
    },
    {
     "data": {
      "text/html": [
       "7.85192452036311"
      ],
      "text/latex": [
       "7.85192452036311"
      ],
      "text/markdown": [
       "7.85192452036311"
      ],
      "text/plain": [
       "[1] 7.851925"
      ]
     },
     "metadata": {},
     "output_type": "display_data"
    },
    {
     "data": {
      "text/html": [
       "100"
      ],
      "text/latex": [
       "100"
      ],
      "text/markdown": [
       "100"
      ],
      "text/plain": [
       "[1] 100"
      ]
     },
     "metadata": {},
     "output_type": "display_data"
    },
    {
     "data": {
      "text/html": [
       "78.7917844438461"
      ],
      "text/latex": [
       "78.7917844438461"
      ],
      "text/markdown": [
       "78.7917844438461"
      ],
      "text/plain": [
       "[1] 78.79178"
      ]
     },
     "metadata": {},
     "output_type": "display_data"
    },
    {
     "data": {
      "text/html": [
       "16.3689511071408"
      ],
      "text/latex": [
       "16.3689511071408"
      ],
      "text/markdown": [
       "16.3689511071408"
      ],
      "text/plain": [
       "[1] 16.36895"
      ]
     },
     "metadata": {},
     "output_type": "display_data"
    },
    {
     "data": {
      "text/html": [
       "62.4228333367053"
      ],
      "text/latex": [
       "62.4228333367053"
      ],
      "text/markdown": [
       "62.4228333367053"
      ],
      "text/plain": [
       "[1] 62.42283"
      ]
     },
     "metadata": {},
     "output_type": "display_data"
    },
    {
     "data": {
      "text/html": [
       "95.1607355509869"
      ],
      "text/latex": [
       "95.1607355509869"
      ],
      "text/markdown": [
       "95.1607355509869"
      ],
      "text/plain": [
       "[1] 95.16074"
      ]
     },
     "metadata": {},
     "output_type": "display_data"
    }
   ],
   "source": [
    "b0 = (sum(Y) - b1 * sum(x)) / n\n",
    "b0\n",
    "\n",
    "s2 = (1 / (n - 2)) * sum((Y - b0 - b1 * x)^2)\n",
    "s2\n",
    "s = sqrt(s2)\n",
    "s\n",
    "\n",
    "x_given = 100\n",
    "x_given\n",
    "\n",
    "y_hat = b0 + b1 * x_given\n",
    "y_hat\n",
    "\n",
    "alpha = 0.05\n",
    "\n",
    "w = qt(1 - alpha / 2, n - 2) * \n",
    "        s * sqrt(1 + (1 / n) + (x_given - mean(x))^2 / sum((x - mean(x))^2))\n",
    "w\n",
    "\n",
    "left = y_hat - w\n",
    "right = y_hat + w\n",
    "left\n",
    "right"
   ]
  },
  {
   "cell_type": "markdown",
   "metadata": {},
   "source": [
    "A 95% confidence interval for the expected heart rate at rest of a woman with a body temperature of 100 degrees Fahrenheit is:\n",
    "$(62.4228333367053, 95.1607355509869)$"
   ]
  },
  {
   "cell_type": "markdown",
   "metadata": {},
   "source": [
    "## (c) {-}\n",
    "Let $x^*$ denote body temperature and $Y^*$ denote heart rate at rest for the men. Then $\\hat{\\beta^*_1}$ and $\\hat{\\beta^*_0}$ are the maximum likelihood estimates for the men's data, calculated similarly done for the women's data in (a) and (b)\n",
    "<br>\n",
    "$H_0: \\beta_1 = \\beta_1^*$ versus $H_0: \\beta_1 \\neq \\beta_1^*$ \n",
    "<br>\n",
    "Critical Region:\n",
    "$t \\leq -t_{0.025, 126} = -1.97897060199061$ or $t \\geq t_{0.025, 126} = 1.97897060199061$\n",
    "<br>\n",
    "where\n",
    "\n",
    "\\begin{align}\n",
    "t = \\frac{\\beta_1 - \\beta_1^*}{s\\sqrt{\\frac{1}{\\sum_{i=1}^{n}(x_i - \\bar{x})^2} + \\frac{1}{\\sum_{i=1}^{m}(x_i^* -  \\bar{x^*})^2}}} = 0.0369011021914755\n",
    "\\end{align}\n",
    "where\n",
    "\\begin{align}\n",
    "S = \\frac{\\sqrt{\\sum_{i=1}^{n}[Y_i - \\hat{\\beta_0}-\\hat{\\beta_1}x_i]^2 + \\sum_{i=1}^{n}[Y^*_i - \\hat{\\beta^*_0}-\\hat{\\beta^*_1}x^*_i]^2}}{n + m - 4} = 0.0369011021914755\n",
    "\\end{align}"
   ]
  },
  {
   "cell_type": "code",
   "execution_count": 150,
   "metadata": {},
   "outputs": [
    {
     "data": {
      "text/html": [
       "65"
      ],
      "text/latex": [
       "65"
      ],
      "text/markdown": [
       "65"
      ],
      "text/plain": [
       "[1] 65"
      ]
     },
     "metadata": {},
     "output_type": "display_data"
    },
    {
     "data": {
      "text/html": [
       "126"
      ],
      "text/latex": [
       "126"
      ],
      "text/markdown": [
       "126"
      ],
      "text/plain": [
       "[1] 126"
      ]
     },
     "metadata": {},
     "output_type": "display_data"
    },
    {
     "data": {
      "text/html": [
       "1.63109831507811"
      ],
      "text/latex": [
       "1.63109831507811"
      ],
      "text/markdown": [
       "1.63109831507811"
      ],
      "text/plain": [
       "[1] 1.631098"
      ]
     },
     "metadata": {},
     "output_type": "display_data"
    },
    {
     "data": {
      "text/html": [
       "-292.521593217129"
      ],
      "text/latex": [
       "-292.521593217129"
      ],
      "text/markdown": [
       "-292.521593217129"
      ],
      "text/plain": [
       "[1] -292.5216"
      ]
     },
     "metadata": {},
     "output_type": "display_data"
    }
   ],
   "source": [
    "www = \"http://userhome.brooklyn.cuny.edu/cbenes/TempHeartRateM.txt\"\n",
    "m_data = read.table(www)\n",
    "\n",
    "x_str = m_data[,1]\n",
    "y_str = m_data[,2]\n",
    "\n",
    "m = length(x_str)\n",
    "m\n",
    "\n",
    "n+m-4\n",
    "\n",
    "b1_str = (m * sum(x_str * y_str) - sum(x_str) * sum(y_str)) / (m * sum(x_str^2) - (sum(x_str))^2)\n",
    "b1_str\n",
    "\n",
    "b0_str = (sum(f) - b1 * sum(x)) / n\n",
    "b0_str"
   ]
  },
  {
   "cell_type": "code",
   "execution_count": 51,
   "metadata": {},
   "outputs": [
    {
     "data": {
      "text/html": [
       "0.245807851716649"
      ],
      "text/latex": [
       "0.245807851716649"
      ],
      "text/markdown": [
       "0.245807851716649"
      ],
      "text/plain": [
       "[1] 0.2458079"
      ]
     },
     "metadata": {},
     "output_type": "display_data"
    },
    {
     "data": {
      "text/html": [
       "0.0369011021914755"
      ],
      "text/latex": [
       "0.0369011021914755"
      ],
      "text/markdown": [
       "0.0369011021914755"
      ],
      "text/plain": [
       "[1] 0.0369011"
      ]
     },
     "metadata": {},
     "output_type": "display_data"
    },
    {
     "data": {
      "text/html": [
       "1.97897060199061"
      ],
      "text/latex": [
       "1.97897060199061"
      ],
      "text/markdown": [
       "1.97897060199061"
      ],
      "text/plain": [
       "[1] 1.978971"
      ]
     },
     "metadata": {},
     "output_type": "display_data"
    }
   ],
   "source": [
    "root = sqrt(1 / sum((x - mean(x))^2) + 1 / sum((x_str - mean(x_str))^2))\n",
    "root\n",
    "\n",
    "S = sqrt((sum((y - b0 - b1 * x)^2) + sum((y_str - b0_str - b1_str * x_str)^2)) / (n + m - 4))\n",
    "\n",
    "t = (b1 - b1_str) / (S * root)\n",
    "t\n",
    "\n",
    "t_theo = qt(1 - alpha/2, n + m - 4)\n",
    "t_theo"
   ]
  },
  {
   "cell_type": "markdown",
   "metadata": {},
   "source": [
    "Since\n",
    "<br>\n",
    "$-1.97897060199061 < 0.0369011021914755 < 1.97897060199061$\n",
    "<br>\n",
    "We fail to reject $H_0$, suggesting that we don't have enough evidence to claim that the relationship between body temperature and heart rate at rest for men and women are different."
   ]
  },
  {
   "cell_type": "markdown",
   "metadata": {},
   "source": [
    "## (d) {-}"
   ]
  },
  {
   "cell_type": "code",
   "execution_count": 52,
   "metadata": {
    "scrolled": true
   },
   "outputs": [
    {
     "data": {
      "text/html": [
       "98.3938461538462"
      ],
      "text/latex": [
       "98.3938461538462"
      ],
      "text/markdown": [
       "98.3938461538462"
      ],
      "text/plain": [
       "[1] 98.39385"
      ]
     },
     "metadata": {},
     "output_type": "display_data"
    },
    {
     "data": {
      "text/html": [
       "0.743487752731366"
      ],
      "text/latex": [
       "0.743487752731366"
      ],
      "text/markdown": [
       "0.743487752731366"
      ],
      "text/plain": [
       "[1] 0.7434878"
      ]
     },
     "metadata": {},
     "output_type": "display_data"
    }
   ],
   "source": [
    "m = mean(x)\n",
    "m\n",
    "sd = sd(x)\n",
    "sd"
   ]
  },
  {
   "cell_type": "markdown",
   "metadata": {},
   "source": [
    "The 7 equiprobable bins for a normal random variable with mean 98.3938461538462 and standard deviation 0.743487752731366 are\n",
    "<br>\n",
    "\\begin{align}\n",
    "(-\\infty, 98.3938461538462 - z_{1/7}0.743487752731366) \\\\\n",
    "(98.3938461538462 - z_{1/7}0.743487752731366, 98.3938461538462 - z_{2/7}0.743487752731366) \\\\\n",
    "(98.3938461538462 - z_{2/7}0.743487752731366, 98.3938461538462 - z_{3/7}0.743487752731366) \\\\\n",
    "(98.3938461538462 - z_{3/7}0.743487752731366, 98.3938461538462 + z_{3/7}0.743487752731366) \\\\\n",
    "(98.3938461538462 + z_{3/7}0.743487752731366, 98.3938461538462 + z_{2/7}0.743487752731366) \\\\\n",
    "(98.3938461538462 + z_{2/7}0.743487752731366, 98.3938461538462 + z_{1/7}0.743487752731366) \\\\\n",
    "(98.3938461538462 + z_{1/7}0.743487752731366, \\infty) \\\\\n",
    "\\end{align}"
   ]
  },
  {
   "cell_type": "code",
   "execution_count": 69,
   "metadata": {},
   "outputs": [
    {
     "data": {
      "text/html": [
       "1.06757052387814"
      ],
      "text/latex": [
       "1.06757052387814"
      ],
      "text/markdown": [
       "1.06757052387814"
      ],
      "text/plain": [
       "[1] 1.067571"
      ]
     },
     "metadata": {},
     "output_type": "display_data"
    },
    {
     "data": {
      "text/html": [
       "0.565948821932863"
      ],
      "text/latex": [
       "0.565948821932863"
      ],
      "text/markdown": [
       "0.565948821932863"
      ],
      "text/plain": [
       "[1] 0.5659488"
      ]
     },
     "metadata": {},
     "output_type": "display_data"
    },
    {
     "data": {
      "text/html": [
       "0.180012369792705"
      ],
      "text/latex": [
       "0.180012369792705"
      ],
      "text/markdown": [
       "0.180012369792705"
      ],
      "text/plain": [
       "[1] 0.1800124"
      ]
     },
     "metadata": {},
     "output_type": "display_data"
    }
   ],
   "source": [
    "z_1 = -qnorm(1/7)\n",
    "z_1\n",
    "z_2 = -qnorm(2/7)\n",
    "z_2\n",
    "z_3 = -qnorm(3/7)\n",
    "z_3"
   ]
  },
  {
   "cell_type": "code",
   "execution_count": 70,
   "metadata": {},
   "outputs": [
    {
     "data": {
      "text/html": [
       "97.6001205441658"
      ],
      "text/latex": [
       "97.6001205441658"
      ],
      "text/markdown": [
       "97.6001205441658"
      ],
      "text/plain": [
       "[1] 97.60012"
      ]
     },
     "metadata": {},
     "output_type": "display_data"
    },
    {
     "data": {
      "text/html": [
       "97.9730701360664"
      ],
      "text/latex": [
       "97.9730701360664"
      ],
      "text/markdown": [
       "97.9730701360664"
      ],
      "text/plain": [
       "[1] 97.97307"
      ]
     },
     "metadata": {},
     "output_type": "display_data"
    },
    {
     "data": {
      "text/html": [
       "98.2600091615652"
      ],
      "text/latex": [
       "98.2600091615652"
      ],
      "text/markdown": [
       "98.2600091615652"
      ],
      "text/plain": [
       "[1] 98.26001"
      ]
     },
     "metadata": {},
     "output_type": "display_data"
    },
    {
     "data": {
      "text/html": [
       "98.5276831461272"
      ],
      "text/latex": [
       "98.5276831461272"
      ],
      "text/markdown": [
       "98.5276831461272"
      ],
      "text/plain": [
       "[1] 98.52768"
      ]
     },
     "metadata": {},
     "output_type": "display_data"
    },
    {
     "data": {
      "text/html": [
       "98.814622171626"
      ],
      "text/latex": [
       "98.814622171626"
      ],
      "text/markdown": [
       "98.814622171626"
      ],
      "text/plain": [
       "[1] 98.81462"
      ]
     },
     "metadata": {},
     "output_type": "display_data"
    },
    {
     "data": {
      "text/html": [
       "99.1875717635266"
      ],
      "text/latex": [
       "99.1875717635266"
      ],
      "text/markdown": [
       "99.1875717635266"
      ],
      "text/plain": [
       "[1] 99.18757"
      ]
     },
     "metadata": {},
     "output_type": "display_data"
    }
   ],
   "source": [
    "98.3938461538462 - z_1 * 0.743487752731366\n",
    "98.3938461538462 - z_2 * 0.743487752731366\n",
    "98.3938461538462 - z_3 * 0.743487752731366\n",
    "98.3938461538462 + z_3 * 0.743487752731366\n",
    "98.3938461538462 + z_2 * 0.743487752731366\n",
    "98.3938461538462 + z_1 * 0.743487752731366"
   ]
  },
  {
   "cell_type": "markdown",
   "metadata": {},
   "source": [
    "Using the numerical values of the normal septile gives the following intervals:\n",
    "\\begin{align}\n",
    "(-\\infty, 97.6001205441658) \\\\\n",
    "(97.6001205441658, 97.9730701360664) \\\\\n",
    "(97.9730701360664, 98.2600091615652) \\\\\n",
    "(98.2600091615652, 98.5276831461272) \\\\\n",
    "(98.5276831461272, 98.814622171626) \\\\\n",
    "(98.814622171626, 99.1875717635266) \\\\\n",
    "(99.1875717635266, \\infty) \\\\\n",
    "\\end{align}\n"
   ]
  },
  {
   "cell_type": "markdown",
   "metadata": {},
   "source": [
    "The number of occurences of the data in each of the 7 bins is, respectively, \n",
    "$x_1 = 7$, \n",
    "$x_2 = 8$,\n",
    "$x_3 = 12$,\n",
    "$x_4 = 9$,\n",
    "$x_5 = 17$,\n",
    "$x_6 = 5$,\n",
    "$x_7 = 7$.\n",
    "We note that if for $i = 1,..., 7, p_i$ is the probability of the $i$th bin, then for all $i = 1, ... 7, np_i = \\frac{65}{7} \\geq 5$, so we can perform a goodness-of-fit test.\n",
    "<br>\n",
    "We will reject\n",
    "$H_0:$ the data are normally distributed\n",
    "<br>\n",
    "against\n",
    "<br>\n",
    "$H_1:$ the data are not normally distributed\n",
    "<br>\n",
    "at the 1% significance level if \n",
    "\\begin{align}\n",
    "d_1 = \\sum{\\frac{(x_i - \\frac{65}{7})^2}{\\frac{65}{7}}} \\geq \\chi^2_{.99, 6}\n",
    "\\end{align}"
   ]
  },
  {
   "cell_type": "code",
   "execution_count": 151,
   "metadata": {},
   "outputs": [
    {
     "data": {
      "text/html": [
       "10.4923076923077"
      ],
      "text/latex": [
       "10.4923076923077"
      ],
      "text/markdown": [
       "10.4923076923077"
      ],
      "text/plain": [
       "[1] 10.49231"
      ]
     },
     "metadata": {},
     "output_type": "display_data"
    },
    {
     "data": {
      "text/html": [
       "16.8118938297709"
      ],
      "text/latex": [
       "16.8118938297709"
      ],
      "text/markdown": [
       "16.8118938297709"
      ],
      "text/plain": [
       "[1] 16.81189"
      ]
     },
     "metadata": {},
     "output_type": "display_data"
    }
   ],
   "source": [
    "x_i = c(7, 8, 12, 9, 17, 5, 7)\n",
    "d1 = sum(((x_i - 65/7)^2  * 7 / 65))\n",
    "d1\n",
    "qchisq(.99, 6)"
   ]
  },
  {
   "cell_type": "markdown",
   "metadata": {},
   "source": [
    "Using the values of $x_i$ obtained above, we see that\n",
    "\\begin{align}\n",
    "d_1 = \\sum{\\frac{(x_i - \\frac{65}{7})^2}{\\frac{65}{7}}} = 10.4923076923077 \\ngeq \\chi^2_{.99, 6} = 16.8118938297709\n",
    "\\end{align}\n",
    "Therefore, we fail to reject $H_0$. There isn't enough evidence to exclude the possibility that the data are normally distributed."
   ]
  },
  {
   "cell_type": "markdown",
   "metadata": {},
   "source": [
    "## (e) {-}\n",
    "#### Assumptions we are making:{-}\n",
    "X and Y have a bivariate normal distribution. (Here x in the command is now X.)\n",
    "<br>\n",
    "We are doing a two-sided test here because we don't have any particular reason to assume any relationship between the two data sets. \n",
    "We can use this because we show that X are normally distributed in (d) but we are aware that we didn't test it for Y. So we just assume Y is also normally distributed."
   ]
  },
  {
   "cell_type": "code",
   "execution_count": 156,
   "metadata": {},
   "outputs": [
    {
     "data": {
      "text/html": [
       "0.273028918828467"
      ],
      "text/latex": [
       "0.273028918828467"
      ],
      "text/markdown": [
       "0.273028918828467"
      ],
      "text/plain": [
       "[1] 0.2730289"
      ]
     },
     "metadata": {},
     "output_type": "display_data"
    },
    {
     "data": {
      "text/html": [
       "1.99834054252074"
      ],
      "text/latex": [
       "1.99834054252074"
      ],
      "text/markdown": [
       "1.99834054252074"
      ],
      "text/plain": [
       "[1] 1.998341"
      ]
     },
     "metadata": {},
     "output_type": "display_data"
    },
    {
     "data": {
      "text/html": [
       "2.25268891415526"
      ],
      "text/latex": [
       "2.25268891415526"
      ],
      "text/markdown": [
       "2.25268891415526"
      ],
      "text/plain": [
       "[1] 2.252689"
      ]
     },
     "metadata": {},
     "output_type": "display_data"
    }
   ],
   "source": [
    "r = cor(x, Y)\n",
    "r\n",
    "qt(0.975, 63)\n",
    "t = (sqrt(n - 2) * r)/sqrt(1 - r^2)\n",
    "t"
   ]
  },
  {
   "cell_type": "markdown",
   "metadata": {},
   "source": [
    "The sample correlation of X and Y is $r =0.273028918828467$\n",
    "<br>\n",
    "For $p = corr(x, y)$, we are testing\n",
    "<br>\n",
    "$H_0: p = 0$ against $H_0: p \\neq 0$\n",
    "<br>\n",
    "We know that under $H_0$,\n",
    "\\begin{align}\n",
    "\\frac{\\sqrt{n-2}R}{\\sqrt{1-R^2}} \\sim t_{n-2},\n",
    "\\end{align}\n",
    "so for this test, the critical region for $\\leq -t_{0.025, 63} \\approx -1.998$ or $\\geq t_{0.025, 63} \\approx 1.998$\n",
    "Since\n",
    "<br>\n",
    "<br>\n",
    "\\begin{align}\n",
    "\\frac{\\sqrt{n-2}R}{\\sqrt{1-R^2}} \\approx 2.2526 \\geq t_{n-2} \\approx 1.998,\n",
    "\\end{align}\n",
    "<br>\n",
    "we reject $H_0$, suggesting that there is strong evidence that the body temperature and heart rate at rest are related."
   ]
  },
  {
   "cell_type": "markdown",
   "metadata": {},
   "source": [
    "# 3{-}\n",
    "## (a){-}\n",
    "Sample means = 0.047246229452558 and 0.115696343315628, p-value = 0.6569"
   ]
  },
  {
   "cell_type": "markdown",
   "metadata": {},
   "source": [
    "## (b){-}\n",
    "Sample means = -0.0695529932383563 and 0.0506532961069409, p-value = 0.3686"
   ]
  },
  {
   "cell_type": "markdown",
   "metadata": {},
   "source": [
    "## (c){-}\n",
    "Sample means = -0.0227165662391134 and 0.137960274648808, p-value = 0.2697"
   ]
  },
  {
   "cell_type": "markdown",
   "metadata": {},
   "source": [
    "## (d){-}\n",
    "Sample means = -0.0305555416532644 and 0.0718689221545521, p-value = 0.5118"
   ]
  },
  {
   "cell_type": "markdown",
   "metadata": {},
   "source": [
    "## (e){-}\n",
    "Sample means = 0.116875832043403 and 0.0859240495639642, p-value = 0.8295"
   ]
  },
  {
   "cell_type": "markdown",
   "metadata": {},
   "source": [
    "## (f){-}"
   ]
  },
  {
   "cell_type": "code",
   "execution_count": 154,
   "metadata": {},
   "outputs": [
    {
     "data": {
      "text/html": [
       "0.047246229452558"
      ],
      "text/latex": [
       "0.047246229452558"
      ],
      "text/markdown": [
       "0.047246229452558"
      ],
      "text/plain": [
       "[1] 0.04724623"
      ]
     },
     "metadata": {},
     "output_type": "display_data"
    },
    {
     "data": {
      "text/html": [
       "0.115696343315628"
      ],
      "text/latex": [
       "0.115696343315628"
      ],
      "text/markdown": [
       "0.115696343315628"
      ],
      "text/plain": [
       "[1] 0.1156963"
      ]
     },
     "metadata": {},
     "output_type": "display_data"
    },
    {
     "data": {
      "text/plain": [
       "\n",
       "\tWelch Two Sample t-test\n",
       "\n",
       "data:  x_nrm and y_nrm\n",
       "t = -0.44521, df = 127.69, p-value = 0.6569\n",
       "alternative hypothesis: true difference in means is not equal to 0\n",
       "95 percent confidence interval:\n",
       " -0.3726766  0.2357764\n",
       "sample estimates:\n",
       " mean of x  mean of y \n",
       "0.04724623 0.11569634 \n"
      ]
     },
     "metadata": {},
     "output_type": "display_data"
    }
   ],
   "source": [
    "x_nrm = rnorm(n)\n",
    "y_nrm = rnorm(n)\n",
    "\n",
    "x_nrm_m = mean(x_nrm)\n",
    "x_nrm_m\n",
    "y_nrm_m = mean(y_nrm)\n",
    "y_nrm_m\n",
    "\n",
    "t.test(x_nrm, y_nrm)"
   ]
  },
  {
   "cell_type": "markdown",
   "metadata": {},
   "source": [
    "## (g){-}\n",
    "Two out of five p-values obtained were less than 0.4. p-values less than 0.4 means that if the means of x and y were the same, we will get the difference observed or more at most 40% of the time, due to random sampling error. And our result showed that $\\frac{2}{5} = 0.4$, 40% of the time, it fell in this case. Therefore, it matches my expectation as p-values are uniformly distributed in the range from 0 to 1 under $H_0$. "
   ]
  },
  {
   "cell_type": "markdown",
   "metadata": {},
   "source": [
    "# 4{-}\n",
    "## (a){-}"
   ]
  },
  {
   "cell_type": "code",
   "execution_count": 102,
   "metadata": {},
   "outputs": [
    {
     "data": {
      "text/html": [
       "2000"
      ],
      "text/latex": [
       "2000"
      ],
      "text/markdown": [
       "2000"
      ],
      "text/plain": [
       "[1] 2000"
      ]
     },
     "metadata": {},
     "output_type": "display_data"
    },
    {
     "data": {
      "text/html": [
       "2000"
      ],
      "text/latex": [
       "2000"
      ],
      "text/markdown": [
       "2000"
      ],
      "text/plain": [
       "[1] 2000"
      ]
     },
     "metadata": {},
     "output_type": "display_data"
    }
   ],
   "source": [
    "www = \"http://userhome.brooklyn.cuny.edu/cbenes/Erii.txt\"\n",
    "data = read.table(www)\n",
    "x = data[, 1]\n",
    "y = data[,2]\n",
    "n = length(x)\n",
    "n\n",
    "m = length(y)\n",
    "m"
   ]
  },
  {
   "cell_type": "markdown",
   "metadata": {},
   "source": [
    "##  1. Test if the data set x and y have the same variances{-}\n",
    "### Assumptions we are making:{-}\n",
    "The both x and y are independent random samples from normal distributions with means $\\mu_x$ and $\\mu_y$ and standard deviations $\\sigma_x$ and $\\sigma_y$ respectively.\n",
    "\n",
    "\n",
    "### The hypotheses to be tested are{-}\n",
    "\\begin{align}\n",
    "H_0 : \\sigma^2_x = \\sigma^2_y\\\\\n",
    "versus \\quad \\\\\n",
    "H_1 : \\sigma^2_x \\neq \\sigma^2_y\\\\\n",
    "\\end{align}"
   ]
  },
  {
   "cell_type": "code",
   "execution_count": 113,
   "metadata": {
    "scrolled": true
   },
   "outputs": [
    {
     "data": {
      "text/html": [
       "0.986383216951333"
      ],
      "text/latex": [
       "0.986383216951333"
      ],
      "text/markdown": [
       "0.986383216951333"
      ],
      "text/plain": [
       "[1] 0.9863832"
      ]
     },
     "metadata": {},
     "output_type": "display_data"
    },
    {
     "data": {
      "text/html": [
       "0.97295185068326"
      ],
      "text/latex": [
       "0.97295185068326"
      ],
      "text/markdown": [
       "0.97295185068326"
      ],
      "text/plain": [
       "[1] 0.9729519"
      ]
     },
     "metadata": {},
     "output_type": "display_data"
    },
    {
     "data": {
      "text/html": [
       "1.00182607384519"
      ],
      "text/latex": [
       "1.00182607384519"
      ],
      "text/markdown": [
       "1.00182607384519"
      ],
      "text/plain": [
       "[1] 1.001826"
      ]
     },
     "metadata": {},
     "output_type": "display_data"
    },
    {
     "data": {
      "text/html": [
       "1.00365548223607"
      ],
      "text/latex": [
       "1.00365548223607"
      ],
      "text/markdown": [
       "1.00365548223607"
      ],
      "text/plain": [
       "[1] 1.003655"
      ]
     },
     "metadata": {},
     "output_type": "display_data"
    }
   ],
   "source": [
    "x_sd = sd(x)\n",
    "x_sd\n",
    "\n",
    "x_var = x_sd^2\n",
    "x_var\n",
    "\n",
    "y_sd = sd(y)\n",
    "y_sd\n",
    "\n",
    "y_var = y_sd^2\n",
    "y_var"
   ]
  },
  {
   "cell_type": "markdown",
   "metadata": {},
   "source": [
    "### The sample variances become {-}\n",
    "\\begin{align}\n",
    "s^2_x = 0.97295185068326\\\\\n",
    "s^2_y = 1.00365548223607\\\\\n",
    "\\end{align}"
   ]
  },
  {
   "cell_type": "code",
   "execution_count": 114,
   "metadata": {},
   "outputs": [
    {
     "data": {
      "text/html": [
       "1.03155719528284"
      ],
      "text/latex": [
       "1.03155719528284"
      ],
      "text/markdown": [
       "1.03155719528284"
      ],
      "text/plain": [
       "[1] 1.031557"
      ]
     },
     "metadata": {},
     "output_type": "display_data"
    }
   ],
   "source": [
    "f_obs = y_var / x_var\n",
    "f_obs"
   ]
  },
  {
   "cell_type": "markdown",
   "metadata": {},
   "source": [
    "### Dividing the sample variances gives an observed F ratio of 2.4271577106789 {-}\n",
    "\\begin{align}\n",
    "F =  \\frac{s^2_y}{s^2_x} = \\frac{1.00365548223607}{0.97295185068326} = 1.03155719528284 \\\\\n",
    "\\end{align}\n",
    "\n",
    "### Critical Region:{-}\n",
    "We reject $H_0$ if $\\frac{s^2_y}{s^2_x}$ is either $(1) \\leq F_{0.025,1999,1999}\\quad or \\quad (2) \\geq F_{0.975,1999,1999}$"
   ]
  },
  {
   "cell_type": "code",
   "execution_count": 116,
   "metadata": {},
   "outputs": [
    {
     "data": {
      "text/html": [
       "0.916036392600105"
      ],
      "text/latex": [
       "0.916036392600105"
      ],
      "text/markdown": [
       "0.916036392600105"
      ],
      "text/plain": [
       "[1] 0.9160364"
      ]
     },
     "metadata": {},
     "output_type": "display_data"
    },
    {
     "data": {
      "text/html": [
       "1.09165968522448"
      ],
      "text/latex": [
       "1.09165968522448"
      ],
      "text/markdown": [
       "1.09165968522448"
      ],
      "text/plain": [
       "[1] 1.09166"
      ]
     },
     "metadata": {},
     "output_type": "display_data"
    }
   ],
   "source": [
    "f_1 = qf(0.025, df1 = 1999, df2 = 1999)\n",
    "f_1\n",
    "f_2 = qf(0.975, df1 = 1999, df2 = 1999)\n",
    "f_2"
   ]
  },
  {
   "cell_type": "markdown",
   "metadata": {},
   "source": [
    "### We have {-}\n",
    "\\begin{align}\n",
    "F_{0.025,1999,1999} = 0.916036392600105 \\\\\n",
    "F_{0.975,1999,1999} = 1.09165968522448 \\\\\n",
    "\\end{align}\n",
    "### Then,{-}\n",
    "\\begin{align}\n",
    "0.916036392600105 < 1.03155719528284 < 1.09165968522448 \\\\\n",
    "\\end{align}\n",
    "\n",
    "### Conclusion: {-}\n",
    "Therefore, we fail to reject our null hypothesis, suggesting that we don't have enough evidence to claim that the variances for the two data sets are different at the 5% level of significance."
   ]
  },
  {
   "cell_type": "markdown",
   "metadata": {},
   "source": [
    "## (b){-}\n",
    "### Assumptions we are making:{-}\n",
    "Part 1 allows us to assume that $\\sigma_x = \\sigma_y$, so we can use the two-sample t-test. We are doing a two-sided test because we don't know any relationship between x and y.\n",
    "<br>\n",
    "\n",
    "### The hypotheses to be tested are{-}\n",
    "\\begin{align}\n",
    "H_0 : \\mu_x = \\mu_y\\\\\n",
    "versus \\quad \\\\\n",
    "H_1 : \\mu_x \\neq \\mu_y\\\\\n",
    "\\end{align}\n",
    "\n",
    "### Critical Region: We reject $H_0$ if{-}\n",
    "\\begin{align}\n",
    "t = \\frac{\\bar{x} - \\bar{y}}{S_p\\sqrt{\\frac{1}{n} + \\frac{1}{m}}} \\leq -t_{0.025, 3998} \\quad or \\quad \\geq t_{0.025, 3998}\\\\\n",
    "\\end{align}\n",
    "<br>\n",
    "Since we already calculated the sample variances in part 1, now we just need the sample means $\\bar{x}$ and $\\bar{y}$ and the pooled standard deviation $S_p$"
   ]
  },
  {
   "cell_type": "code",
   "execution_count": 117,
   "metadata": {},
   "outputs": [
    {
     "data": {
      "text/html": [
       "-0.0670763876932095"
      ],
      "text/latex": [
       "-0.0670763876932095"
      ],
      "text/markdown": [
       "-0.0670763876932095"
      ],
      "text/plain": [
       "[1] -0.06707639"
      ]
     },
     "metadata": {},
     "output_type": "display_data"
    },
    {
     "data": {
      "text/html": [
       "0.000110783505236707"
      ],
      "text/latex": [
       "0.000110783505236707"
      ],
      "text/markdown": [
       "0.000110783505236707"
      ],
      "text/plain": [
       "[1] 0.0001107835"
      ]
     },
     "metadata": {},
     "output_type": "display_data"
    },
    {
     "data": {
      "text/html": [
       "0.994134631958703"
      ],
      "text/latex": [
       "0.994134631958703"
      ],
      "text/markdown": [
       "0.994134631958703"
      ],
      "text/plain": [
       "[1] 0.9941346"
      ]
     },
     "metadata": {},
     "output_type": "display_data"
    }
   ],
   "source": [
    "x_m = mean(x)\n",
    "x_m\n",
    "y_m = mean(y)\n",
    "y_m\n",
    "s_p = sqrt(((n - 1) * x_var + (m - 1) * y_var) / (n + m - 2))\n",
    "s_p"
   ]
  },
  {
   "cell_type": "markdown",
   "metadata": {},
   "source": [
    "### We have{-}\n",
    "\\begin{align}\n",
    "\\bar{x} = -0.0670763876932095 \\\\\n",
    "\\bar{y} = 0.000110783505236707 \\\\\n",
    "S_p = 0.994134631958703\\\\\n",
    "\\end{align}\n"
   ]
  },
  {
   "cell_type": "code",
   "execution_count": 122,
   "metadata": {},
   "outputs": [
    {
     "data": {
      "text/html": [
       "-2.13718025406825"
      ],
      "text/latex": [
       "-2.13718025406825"
      ],
      "text/markdown": [
       "-2.13718025406825"
      ],
      "text/plain": [
       "[1] -2.13718"
      ]
     },
     "metadata": {},
     "output_type": "display_data"
    },
    {
     "data": {
      "text/html": [
       "1.96055752565258"
      ],
      "text/latex": [
       "1.96055752565258"
      ],
      "text/markdown": [
       "1.96055752565258"
      ],
      "text/plain": [
       "[1] 1.960558"
      ]
     },
     "metadata": {},
     "output_type": "display_data"
    }
   ],
   "source": [
    "t_obs = (x_m - y_m)/(s_p * sqrt((1/n) + (1/m)))\n",
    "t_obs\n",
    "t_score = qt(0.975, n + m - 2)\n",
    "t_score"
   ]
  },
  {
   "cell_type": "markdown",
   "metadata": {},
   "source": [
    "### Therefore{-}\n",
    "\\begin{align}\n",
    "t = -2.13718025406825 < -1.96055752565258 = t_{0.025, 3998}\\\\\n",
    "\\end{align}\n",
    "\n",
    "### Conclusion:{-}\n",
    "So there is sufficient evidence to reject the null hypothesis in favor of the alternate hypothesis. In other words, there is evidence that the means of the distributions from which the two data sets were generated are not equal."
   ]
  },
  {
   "cell_type": "markdown",
   "metadata": {},
   "source": [
    "# Bonus Problem:{-}\n",
    "## Prove that p-values are uniformly distributed under $H_0$ is true.{-}\n",
    "Below I plotted histograms of independent 100,000 sample uniform(0, 1) random variables and p-values which are each generated from t-test with 100 samples from a standard normal distribution respectively. They look almost identical, so it proves that p-values are uniformly distributed under $H_0$ is true."
   ]
  },
  {
   "cell_type": "code",
   "execution_count": 137,
   "metadata": {},
   "outputs": [
    {
     "data": {
      "image/png": "[encoded data removed]",
      "text/plain": [
       "Plot with title “Histogram of uniforms”"
      ]
     },
     "metadata": {},
     "output_type": "display_data"
    }
   ],
   "source": [
    "uniforms =runif(100000, 0, 1)\n",
    "hist(uniforms)"
   ]
  },
  {
   "cell_type": "code",
   "execution_count": 135,
   "metadata": {},
   "outputs": [
    {
     "data": {
      "image/png": "[encoded data removed]",
      "text/plain": [
       "Plot with title “Histogram of pvalues”"
      ]
     },
     "metadata": {},
     "output_type": "display_data"
    }
   ],
   "source": [
    "pvalues <- replicate(100000, t.test(rnorm(100))$p.value)\n",
    "hist(pvalues)"
   ]
  },
  {
   "cell_type": "code",
   "execution_count": null,
   "metadata": {},
   "outputs": [],
   "source": []
  }
 ],
 "metadata": {
  "kernelspec": {
   "display_name": "R",
   "language": "R",
   "name": "ir"
  },
  "language_info": {
   "codemirror_mode": "r",
   "file_extension": ".r",
   "mimetype": "text/x-r-source",
   "name": "R",
   "pygments_lexer": "r",
   "version": "3.2.3"
  }
 },
 "nbformat": 4,
 "nbformat_minor": 2
}
