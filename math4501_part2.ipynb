{
 "cells": [
  {
   "cell_type": "markdown",
   "metadata": {},
   "source": [
    "# 2. Does participating in these directed reading activities in the classroom help elementary school students improve aspects of their reading ability? {-}\n",
    "\n",
    "## Our data (from __[Here](http://userhome.brooklyn.cuny.edu/cbenes/Reading.txt)__):{-}\n",
    "x is a set of Degree of Reading Power(DRP) test scores from a class of 21 third-grade students who participated in the directed reading activities for eight weeks.\n",
    "y is a set of DRP test scores from a class of 23 third-grade students who did not participate in these activities."
   ]
  },
  {
   "cell_type": "code",
   "execution_count": 64,
   "metadata": {},
   "outputs": [],
   "source": [
    "www = \"http://userhome.brooklyn.cuny.edu/cbenes/Reading.txt\"\n",
    "TIMES = read.table(www)\n",
    "x = TIMES[1:21, 2] \n",
    "y = TIMES[22:44, 2]\n",
    "n = length(x)\n",
    "m = length(y)"
   ]
  },
  {
   "cell_type": "markdown",
   "metadata": {},
   "source": [
    "##  1. Test if the data set x and y have the same variances{-}\n",
    "### Assumptions we are making:{-}\n",
    "The both x and y are independent random samples from normal distributions with means $\\mu_x$ and $\\mu_y$ and standard deviations $\\sigma_x$ and $\\sigma_y$ respectively.\n",
    "\n",
    "\n",
    "### The hypotheses to be tested are{-}\n",
    "\\begin{align}\n",
    "H_0 : \\sigma^2_x = \\sigma^2_y\\\\\n",
    "versus \\quad \\\\\n",
    "H_1 : \\sigma^2_x \\neq \\sigma^2_y\\\\\n",
    "\\end{align}\n"
   ]
  },
  {
   "cell_type": "code",
   "execution_count": 65,
   "metadata": {},
   "outputs": [
    {
     "data": {
      "text/html": [
       "1081"
      ],
      "text/latex": [
       "1081"
      ],
      "text/markdown": [
       "1081"
      ],
      "text/plain": [
       "[1] 1081"
      ]
     },
     "metadata": {},
     "output_type": "display_data"
    },
    {
     "data": {
      "text/html": [
       "58069"
      ],
      "text/latex": [
       "58069"
      ],
      "text/markdown": [
       "58069"
      ],
      "text/plain": [
       "[1] 58069"
      ]
     },
     "metadata": {},
     "output_type": "display_data"
    },
    {
     "data": {
      "text/html": [
       "955"
      ],
      "text/latex": [
       "955"
      ],
      "text/markdown": [
       "955"
      ],
      "text/plain": [
       "[1] 955"
      ]
     },
     "metadata": {},
     "output_type": "display_data"
    },
    {
     "data": {
      "text/html": [
       "46123"
      ],
      "text/latex": [
       "46123"
      ],
      "text/markdown": [
       "46123"
      ],
      "text/plain": [
       "[1] 46123"
      ]
     },
     "metadata": {},
     "output_type": "display_data"
    }
   ],
   "source": [
    "sum_x = sum(x)\n",
    "sum_x\n",
    "sum_x_sqrd = sum(x^2)\n",
    "sum_x_sqrd\n",
    "sum_y = sum(y)\n",
    "sum_y\n",
    "sum_y_sqrd = sum(y^2)\n",
    "sum_y_sqrd"
   ]
  },
  {
   "cell_type": "markdown",
   "metadata": {},
   "source": [
    "### Let alpha = 0.05 be the level of significance. {-}\n",
    "\\begin{align}\n",
    "\\sum_{i=1}^{21} x_i =  1081 \\quad \\quad \\sum_{i=1}^{21} x^2_i =  58069\\\\\n",
    "\\sum_{i=1}^{23} y_i =  955 \\quad \\quad \\sum_{i=1}^{23} y^2_i =  46123\\\\\n",
    "\\end{align}\n",
    "\n"
   ]
  },
  {
   "cell_type": "code",
   "execution_count": 66,
   "metadata": {},
   "outputs": [
    {
     "data": {
      "text/html": [
       "121.161904761905"
      ],
      "text/latex": [
       "121.161904761905"
      ],
      "text/markdown": [
       "121.161904761905"
      ],
      "text/plain": [
       "[1] 121.1619"
      ]
     },
     "metadata": {},
     "output_type": "display_data"
    },
    {
     "data": {
      "text/html": [
       "294.079051383399"
      ],
      "text/latex": [
       "294.079051383399"
      ],
      "text/markdown": [
       "294.079051383399"
      ],
      "text/plain": [
       "[1] 294.0791"
      ]
     },
     "metadata": {},
     "output_type": "display_data"
    }
   ],
   "source": [
    "sample_var_x = (n * sum_x_sqrd - (sum_x)^2) / (n * (n-1))\n",
    "sample_var_x \n",
    "sample_var_y = (m * sum_y_sqrd - (sum_y)^2) / (m * (m-1))\n",
    "sample_var_y "
   ]
  },
  {
   "cell_type": "markdown",
   "metadata": {},
   "source": [
    "### The sample variances become {-}\n",
    "\\begin{align}\n",
    "s^2_x = 121.161904761905\\\\\n",
    "s^2_y = 294.079051383399\\\\\n",
    "\\end{align}\n"
   ]
  },
  {
   "cell_type": "code",
   "execution_count": 67,
   "metadata": {},
   "outputs": [
    {
     "data": {
      "text/html": [
       "2.4271577106789"
      ],
      "text/latex": [
       "2.4271577106789"
      ],
      "text/markdown": [
       "2.4271577106789"
      ],
      "text/plain": [
       "[1] 2.427158"
      ]
     },
     "metadata": {},
     "output_type": "display_data"
    }
   ],
   "source": [
    "f_observed = sample_var_y / sample_var_x\n",
    "f_observed"
   ]
  },
  {
   "cell_type": "markdown",
   "metadata": {},
   "source": [
    "### Dividing the sample variances gives an observed F ratio of 2.4271577106789 {-}\n",
    "\\begin{align}\n",
    "F =  \\frac{s^2_y}{s^2_x} = \\frac{294.079051383399}{121.161904761905} = 2.4271577106789 \\\\\n",
    "\\end{align}\n",
    "\n",
    "### Our decision rule:{-}\n",
    "We reject $H_0$ if $\\frac{s^2_y}{s^2_x}$ is either $(1) \\leq F_{0.025,22,20}$ or $(2) \\geq F_{0.975,22,20}$"
   ]
  },
  {
   "cell_type": "code",
   "execution_count": 68,
   "metadata": {
    "scrolled": true
   },
   "outputs": [
    {
     "data": {
      "text/html": [
       "0.41858818655092"
      ],
      "text/latex": [
       "0.41858818655092"
      ],
      "text/markdown": [
       "0.41858818655092"
      ],
      "text/plain": [
       "[1] 0.4185882"
      ]
     },
     "metadata": {},
     "output_type": "display_data"
    },
    {
     "data": {
      "text/html": [
       "2.43367309113588"
      ],
      "text/latex": [
       "2.43367309113588"
      ],
      "text/markdown": [
       "2.43367309113588"
      ],
      "text/plain": [
       "[1] 2.433673"
      ]
     },
     "metadata": {},
     "output_type": "display_data"
    }
   ],
   "source": [
    "f_1 = qf(0.025, df1 = 22, df2 = 20)\n",
    "f_1\n",
    "f_2 = qf(0.975, df1 = 22, df2 = 20)\n",
    "f_2"
   ]
  },
  {
   "cell_type": "markdown",
   "metadata": {},
   "source": [
    "### We have {-}\n",
    "\\begin{align}\n",
    "F_{0.025,22,20} = 0.41858818655092 \\\\\n",
    "F_{0.975,22,20} = 2.43367309113588 \\\\\n",
    "\\end{align}\n",
    "### Then,{-}\n",
    "\\begin{align}\n",
    "0.41858818655092 < 2.4271577106789 < 2.43367309113588 \\\\\n",
    "\\end{align}\n",
    "\n",
    "### Conclusion: {-}\n",
    "Therefore, we fail to reject our null hypothesis, suggesting that we don't have enough evidence to claim that the variances for the two data sets are different."
   ]
  },
  {
   "cell_type": "markdown",
   "metadata": {},
   "source": [
    "##  2. Test if the data set x and y have the same mean{-}\n",
    "### Assumptions we are making:{-}\n",
    "Part 1 allows us to assume that $\\sigma_x = \\sigma_y$, so we can use the two-sample t-test. Also, it is reasonable to use a one-sided test here because if there is any effect at all, participating in the the directed reading activities in the classroom will improve one's reading ability.\n",
    "<br>\n",
    "\n",
    "### The hypotheses to be tested are{-}\n",
    "\\begin{align}\n",
    "H_0 : \\mu_x = \\mu_y\\\\\n",
    "versus \\quad \\\\\n",
    "H_1 : \\mu_x > \\mu_y\\\\\n",
    "\\end{align}\n",
    "\n",
    "### We reject $H_0$ if{-}\n",
    "\\begin{align}\n",
    "t = \\frac{\\bar{x} - \\bar{y}}{S_p\\sqrt{\\frac{1}{n} + \\frac{1}{m}}} \\leq -t_{0.05, 42}\\\\\n",
    "\\end{align}\n",
    "<br>\n",
    "Since we already calculated the sample variances in part 1, now we just need the sample means $\\bar{x}$ and $\\bar{y}$ and the pooled standard deviation $S_p$"
   ]
  },
  {
   "cell_type": "code",
   "execution_count": 69,
   "metadata": {},
   "outputs": [
    {
     "data": {
      "text/html": [
       "51.4761904761905"
      ],
      "text/latex": [
       "51.4761904761905"
      ],
      "text/markdown": [
       "51.4761904761905"
      ],
      "text/plain": [
       "[1] 51.47619"
      ]
     },
     "metadata": {},
     "output_type": "display_data"
    },
    {
     "data": {
      "text/html": [
       "41.5217391304348"
      ],
      "text/latex": [
       "41.5217391304348"
      ],
      "text/markdown": [
       "41.5217391304348"
      ],
      "text/plain": [
       "[1] 41.52174"
      ]
     },
     "metadata": {},
     "output_type": "display_data"
    },
    {
     "data": {
      "text/html": [
       "14.551204520321"
      ],
      "text/latex": [
       "14.551204520321"
      ],
      "text/markdown": [
       "14.551204520321"
      ],
      "text/plain": [
       "[1] 14.5512"
      ]
     },
     "metadata": {},
     "output_type": "display_data"
    }
   ],
   "source": [
    "sample_mean_x = mean(x)\n",
    "sample_mean_x\n",
    "sample_mean_y = mean(y)\n",
    "sample_mean_y\n",
    "s_p = sqrt(((n-1) * sample_var_x + (m-1) * sample_var_y) / (n+m-2))\n",
    "s_p"
   ]
  },
  {
   "cell_type": "markdown",
   "metadata": {},
   "source": [
    "### We have{-}\n",
    "\\begin{align}\n",
    "\\bar{x} = 51.4761904761905 \\\\\n",
    "\\bar{y} = 41.5217391304348 \\\\\n",
    "S_p = 14.551204520321\\\\\n",
    "\\end{align}\n"
   ]
  },
  {
   "cell_type": "code",
   "execution_count": 70,
   "metadata": {},
   "outputs": [
    {
     "data": {
      "text/html": [
       "2.26655159958594"
      ],
      "text/latex": [
       "2.26655159958594"
      ],
      "text/markdown": [
       "2.26655159958594"
      ],
      "text/plain": [
       "[1] 2.266552"
      ]
     },
     "metadata": {},
     "output_type": "display_data"
    },
    {
     "data": {
      "text/html": [
       "-1.68195235746753"
      ],
      "text/latex": [
       "-1.68195235746753"
      ],
      "text/markdown": [
       "-1.68195235746753"
      ],
      "text/plain": [
       "[1] -1.681952"
      ]
     },
     "metadata": {},
     "output_type": "display_data"
    }
   ],
   "source": [
    "t_obs = (sample_mean_x - sample_mean_y)/(s_p * sqrt((1/n) + (1/m)))\n",
    "t_obs\n",
    "t_score = qt(0.05, n + m - 2)\n",
    "t_score"
   ]
  },
  {
   "cell_type": "markdown",
   "metadata": {},
   "source": [
    "### Therefore{-}\n",
    "\\begin{align}\n",
    "t = 2.26655159958594 > -1.68195235746753 = t_{0.05, 42}\\\\\n",
    "\\end{align}\n",
    "\n",
    "### Conclusion:{-}\n",
    "So there is sufficient evidence to reject the null hypothesis in favor of the alternate hypothesis. In other words, there is strong evidence that students who participated in the directed reading activities in clasroom yields better scores on the DRP test than those who did not. "
   ]
  }
 ],
 "metadata": {
  "kernelspec": {
   "display_name": "R",
   "language": "R",
   "name": "ir"
  },
  "language_info": {
   "codemirror_mode": "r",
   "file_extension": ".r",
   "mimetype": "text/x-r-source",
   "name": "R",
   "pygments_lexer": "r",
   "version": "3.2.3"
  }
 },
 "nbformat": 4,
 "nbformat_minor": 2
}
