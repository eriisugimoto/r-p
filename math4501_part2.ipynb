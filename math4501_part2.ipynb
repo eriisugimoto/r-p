{
 "cells": [
  {
   "cell_type": "markdown",
   "metadata": {},
   "source": [
    "# Does directed reading activities in the classroom help elementary school students improve aspects of their reading ability?\n"
   ]
  },
  {
   "cell_type": "code",
   "execution_count": 9,
   "metadata": {},
   "outputs": [
    {
     "data": {
      "text/html": [
       "<ol class=list-inline>\n",
       "\t<li>24</li>\n",
       "\t<li>43</li>\n",
       "\t<li>58</li>\n",
       "\t<li>71</li>\n",
       "\t<li>43</li>\n",
       "\t<li>49</li>\n",
       "\t<li>61</li>\n",
       "\t<li>44</li>\n",
       "\t<li>67</li>\n",
       "\t<li>49</li>\n",
       "\t<li>53</li>\n",
       "\t<li>56</li>\n",
       "\t<li>59</li>\n",
       "\t<li>52</li>\n",
       "\t<li>62</li>\n",
       "\t<li>54</li>\n",
       "\t<li>57</li>\n",
       "\t<li>33</li>\n",
       "\t<li>46</li>\n",
       "\t<li>43</li>\n",
       "\t<li>57</li>\n",
       "</ol>\n"
      ],
      "text/latex": [
       "\\begin{enumerate*}\n",
       "\\item 24\n",
       "\\item 43\n",
       "\\item 58\n",
       "\\item 71\n",
       "\\item 43\n",
       "\\item 49\n",
       "\\item 61\n",
       "\\item 44\n",
       "\\item 67\n",
       "\\item 49\n",
       "\\item 53\n",
       "\\item 56\n",
       "\\item 59\n",
       "\\item 52\n",
       "\\item 62\n",
       "\\item 54\n",
       "\\item 57\n",
       "\\item 33\n",
       "\\item 46\n",
       "\\item 43\n",
       "\\item 57\n",
       "\\end{enumerate*}\n"
      ],
      "text/markdown": [
       "1. 24\n",
       "2. 43\n",
       "3. 58\n",
       "4. 71\n",
       "5. 43\n",
       "6. 49\n",
       "7. 61\n",
       "8. 44\n",
       "9. 67\n",
       "10. 49\n",
       "11. 53\n",
       "12. 56\n",
       "13. 59\n",
       "14. 52\n",
       "15. 62\n",
       "16. 54\n",
       "17. 57\n",
       "18. 33\n",
       "19. 46\n",
       "20. 43\n",
       "21. 57\n",
       "\n",
       "\n"
      ],
      "text/plain": [
       " [1] 24 43 58 71 43 49 61 44 67 49 53 56 59 52 62 54 57 33 46 43 57"
      ]
     },
     "metadata": {},
     "output_type": "display_data"
    },
    {
     "data": {
      "text/html": [
       "<ol class=list-inline>\n",
       "\t<li>42</li>\n",
       "\t<li>43</li>\n",
       "\t<li>55</li>\n",
       "\t<li>26</li>\n",
       "\t<li>62</li>\n",
       "\t<li>37</li>\n",
       "\t<li>33</li>\n",
       "\t<li>41</li>\n",
       "\t<li>19</li>\n",
       "\t<li>54</li>\n",
       "\t<li>20</li>\n",
       "\t<li>85</li>\n",
       "\t<li>46</li>\n",
       "\t<li>10</li>\n",
       "\t<li>17</li>\n",
       "\t<li>60</li>\n",
       "\t<li>53</li>\n",
       "\t<li>42</li>\n",
       "\t<li>37</li>\n",
       "\t<li>42</li>\n",
       "\t<li>55</li>\n",
       "\t<li>28</li>\n",
       "\t<li>48</li>\n",
       "</ol>\n"
      ],
      "text/latex": [
       "\\begin{enumerate*}\n",
       "\\item 42\n",
       "\\item 43\n",
       "\\item 55\n",
       "\\item 26\n",
       "\\item 62\n",
       "\\item 37\n",
       "\\item 33\n",
       "\\item 41\n",
       "\\item 19\n",
       "\\item 54\n",
       "\\item 20\n",
       "\\item 85\n",
       "\\item 46\n",
       "\\item 10\n",
       "\\item 17\n",
       "\\item 60\n",
       "\\item 53\n",
       "\\item 42\n",
       "\\item 37\n",
       "\\item 42\n",
       "\\item 55\n",
       "\\item 28\n",
       "\\item 48\n",
       "\\end{enumerate*}\n"
      ],
      "text/markdown": [
       "1. 42\n",
       "2. 43\n",
       "3. 55\n",
       "4. 26\n",
       "5. 62\n",
       "6. 37\n",
       "7. 33\n",
       "8. 41\n",
       "9. 19\n",
       "10. 54\n",
       "11. 20\n",
       "12. 85\n",
       "13. 46\n",
       "14. 10\n",
       "15. 17\n",
       "16. 60\n",
       "17. 53\n",
       "18. 42\n",
       "19. 37\n",
       "20. 42\n",
       "21. 55\n",
       "22. 28\n",
       "23. 48\n",
       "\n",
       "\n"
      ],
      "text/plain": [
       " [1] 42 43 55 26 62 37 33 41 19 54 20 85 46 10 17 60 53 42 37 42 55 28 48"
      ]
     },
     "metadata": {},
     "output_type": "display_data"
    },
    {
     "data": {
      "image/png": "[encoded data removed]",
      "text/plain": [
       "Plot with title “Histogram of x”"
      ]
     },
     "metadata": {},
     "output_type": "display_data"
    },
    {
     "data": {
      "image/png": "[encoded data removed]",
      "text/plain": [
       "Plot with title “Histogram of y”"
      ]
     },
     "metadata": {},
     "output_type": "display_data"
    }
   ],
   "source": [
    "www = \"http://userhome.brooklyn.cuny.edu/cbenes/Reading.txt\"\n",
    "TIMES = read.table(www)\n",
    "x = TIMES[1:21, 2]\n",
    "x \n",
    "hist(x)\n",
    "y = TIMES[22:44, 2]\n",
    "y\n",
    "hist(y)"
   ]
  },
  {
   "cell_type": "markdown",
   "metadata": {},
   "source": [
    "##  1. We test if the data set T1 and T2 have the same variances\n",
    "### Assumptions we are making:\n",
    "1. the data sets are normally distributed\n",
    "\n",
    "### The hypotheses to be tested are\n",
    "\\begin{align}\n",
    "H_0 : \\sigma^2_x = \\sigma^2_y\\\\\n",
    "     versus \\\\\n",
    "H_1 : \\sigma^2_x \\neq \\sigma^2_y\\\\\n",
    "\\end{align}\n"
   ]
  },
  {
   "cell_type": "code",
   "execution_count": 16,
   "metadata": {},
   "outputs": [
    {
     "data": {
      "text/html": [
       "1081"
      ],
      "text/latex": [
       "1081"
      ],
      "text/markdown": [
       "1081"
      ],
      "text/plain": [
       "[1] 1081"
      ]
     },
     "metadata": {},
     "output_type": "display_data"
    },
    {
     "data": {
      "text/html": [
       "58069"
      ],
      "text/latex": [
       "58069"
      ],
      "text/markdown": [
       "58069"
      ],
      "text/plain": [
       "[1] 58069"
      ]
     },
     "metadata": {},
     "output_type": "display_data"
    },
    {
     "data": {
      "text/html": [
       "955"
      ],
      "text/latex": [
       "955"
      ],
      "text/markdown": [
       "955"
      ],
      "text/plain": [
       "[1] 955"
      ]
     },
     "metadata": {},
     "output_type": "display_data"
    },
    {
     "data": {
      "text/html": [
       "46123"
      ],
      "text/latex": [
       "46123"
      ],
      "text/markdown": [
       "46123"
      ],
      "text/plain": [
       "[1] 46123"
      ]
     },
     "metadata": {},
     "output_type": "display_data"
    }
   ],
   "source": [
    "sum_x = sum(x)\n",
    "sum_x\n",
    "sum_x_sqrd = sum(x^2)\n",
    "sum_x_sqrd\n",
    "sum_y = sum(y)\n",
    "sum_y\n",
    "sum_y_sqrd = sum(y^2)\n",
    "sum_y_sqrd"
   ]
  },
  {
   "cell_type": "markdown",
   "metadata": {},
   "source": [
    "### Let alpha = 0.05 be the level of significance. Given that\n",
    "\\begin{align}\n",
    "\\sum_{i=1}^{21} x_i =  1081     \\sum_{i=1}^{21} x^2_i =  58069\\\\\n",
    "\\sum_{i=1}^{23} y_i =  955      \\sum_{i=1}^{23} y^2_i =  46123\\\\\n",
    "\\end{align}\n",
    "\n"
   ]
  },
  {
   "cell_type": "code",
   "execution_count": 19,
   "metadata": {},
   "outputs": [
    {
     "data": {
      "text/html": [
       "121.161904761905"
      ],
      "text/latex": [
       "121.161904761905"
      ],
      "text/markdown": [
       "121.161904761905"
      ],
      "text/plain": [
       "[1] 121.1619"
      ]
     },
     "metadata": {},
     "output_type": "display_data"
    },
    {
     "data": {
      "text/html": [
       "294.079051383399"
      ],
      "text/latex": [
       "294.079051383399"
      ],
      "text/markdown": [
       "294.079051383399"
      ],
      "text/plain": [
       "[1] 294.0791"
      ]
     },
     "metadata": {},
     "output_type": "display_data"
    }
   ],
   "source": [
    "sample_variance_x = (length(x) * sum_x_sqrd - (sum_x)^2) / (length(x) * (length(x) - 1))\n",
    "sample_variance_x \n",
    "sample_variance_y = (length(y) * sum_y_sqrd - (sum_y)^2) / (length(y) * (length(y) - 1))\n",
    "sample_variance_y "
   ]
  },
  {
   "cell_type": "markdown",
   "metadata": {},
   "source": [
    "### the sample variance become\n",
    "\\begin{align}\n",
    "s^2_x = 121.161904761905\\\\\n",
    "s^2_y = 294.079051383399\\\\\n",
    "\\end{align}\n"
   ]
  },
  {
   "cell_type": "code",
   "execution_count": 25,
   "metadata": {},
   "outputs": [
    {
     "data": {
      "text/html": [
       "2.4271577106789"
      ],
      "text/latex": [
       "2.4271577106789"
      ],
      "text/markdown": [
       "2.4271577106789"
      ],
      "text/plain": [
       "[1] 2.427158"
      ]
     },
     "metadata": {},
     "output_type": "display_data"
    }
   ],
   "source": [
    "f_observed = sample_variance_y / sample_variance_x\n",
    "f_observed"
   ]
  },
  {
   "cell_type": "markdown",
   "metadata": {},
   "source": [
    "### Dividing the sample variances gives an observed F ratio of 2.4271577106789\n",
    "\\begin{align}\n",
    "F =  \\frac{s^2_y}{s^2_x} = \\frac{294.079051383399}{121.161904761905} = 2.4271577106789 \\\\\n",
    "\\end{align}\n",
    "\n",
    "### Our decision rule:\n",
    "\\begin{align}\n",
    "We \\quad reject \\quad H_0 \\quad if \\quad \\frac{s^2_y}{s^2_x} \\quad is \\quad either \\quad (1) \\leq F_{0.025,22,20} \\quad or \\quad (2) \\geq F_{0.975,22,20}\\\\\n",
    "\\end{align}"
   ]
  },
  {
   "cell_type": "code",
   "execution_count": 24,
   "metadata": {
    "scrolled": true
   },
   "outputs": [
    {
     "data": {
      "text/html": [
       "0.41858818655092"
      ],
      "text/latex": [
       "0.41858818655092"
      ],
      "text/markdown": [
       "0.41858818655092"
      ],
      "text/plain": [
       "[1] 0.4185882"
      ]
     },
     "metadata": {},
     "output_type": "display_data"
    },
    {
     "data": {
      "text/html": [
       "2.43367309113588"
      ],
      "text/latex": [
       "2.43367309113588"
      ],
      "text/markdown": [
       "2.43367309113588"
      ],
      "text/plain": [
       "[1] 2.433673"
      ]
     },
     "metadata": {},
     "output_type": "display_data"
    }
   ],
   "source": [
    "f_1 = qf(0.025, df1 = 22, df2 = 20)\n",
    "f_1\n",
    "f_2 = qf(0.975, df1 = 22, df2 = 20)\n",
    "f_2"
   ]
  },
  {
   "cell_type": "markdown",
   "metadata": {},
   "source": [
    "### We have:\n",
    "\\begin{align}\n",
    "F_{0.025,22,20} = 0.41858818655092 \\\\\n",
    "F_{0.975,22,20} = 2.43367309113588 \\\\\n",
    "\\end{align}\n",
    "### Then,\n",
    "\\begin{align}\n",
    "0.41858818655092 < 2.4271577106789 < 2.43367309113588 \\\\\n",
    "\\end{align}\n",
    "## Therefore, we fail to reject our null hypothesis, suggesting that we don't have enough evidence to claim that the variances for the two data sets are different.\n",
    "\n",
    "##  2. We test if the data set x and y have the same mean\n",
    "### Assumptions we are making:\n",
    "1. the data sets are normally distributed\n",
    "2. if anything, the directed reading activities in the classroom will improve one's reading ability.\n",
    "### The hypotheses to be tested are\n",
    "\\begin{align}\n",
    "H_0 : \\mu_x = \\mu_y\\\\\n",
    "     versus \\\\\n",
    "H_1 : \\mu_x > \\mu_y\\\\\n",
    "\\end{align}\n",
    "### Since we already calculated the sample variances, now we need a pooled standard deviation"
   ]
  },
  {
   "cell_type": "code",
   "execution_count": 33,
   "metadata": {},
   "outputs": [
    {
     "data": {
      "text/html": [
       "50.7669134683761"
      ],
      "text/latex": [
       "50.7669134683761"
      ],
      "text/markdown": [
       "50.7669134683761"
      ],
      "text/plain": [
       "[1] 50.76691"
      ]
     },
     "metadata": {},
     "output_type": "display_data"
    }
   ],
   "source": [
    "s_p = sqrt((length(x) - 1) * sample_variance_x + (length(y) - 1) * sample_variance_y/(length(x) + length(y) - 2))\n",
    "s_p"
   ]
  },
  {
   "cell_type": "code",
   "execution_count": 34,
   "metadata": {},
   "outputs": [
    {
     "data": {
      "text/html": [
       "0.649656511065627"
      ],
      "text/latex": [
       "0.649656511065627"
      ],
      "text/markdown": [
       "0.649656511065627"
      ],
      "text/plain": [
       "[1] 0.6496565"
      ]
     },
     "metadata": {},
     "output_type": "display_data"
    }
   ],
   "source": [
    "t_obs = (mean(x) - mean(y))/(s_p * sqrt((1/length(x)) + (1/length(y))))\n",
    "t_obs"
   ]
  },
  {
   "cell_type": "code",
   "execution_count": 35,
   "metadata": {},
   "outputs": [
    {
     "data": {
      "text/html": [
       "-1.68195235746753"
      ],
      "text/latex": [
       "-1.68195235746753"
      ],
      "text/markdown": [
       "-1.68195235746753"
      ],
      "text/plain": [
       "[1] -1.681952"
      ]
     },
     "metadata": {},
     "output_type": "display_data"
    }
   ],
   "source": [
    "qt(0.05, length(x) + length(y) - 2)"
   ]
  },
  {
   "cell_type": "markdown",
   "metadata": {},
   "source": [
    "#T\n",
    "\n",
    "### Therefore, we reject our null hypothesis, suggesting that we have enough evidence to claim that directed reading activities in classroom does improve one's ability to read."
   ]
  },
  {
   "cell_type": "code",
   "execution_count": null,
   "metadata": {},
   "outputs": [],
   "source": []
  }
 ],
 "metadata": {
  "kernelspec": {
   "display_name": "R",
   "language": "R",
   "name": "ir"
  },
  "language_info": {
   "codemirror_mode": "r",
   "file_extension": ".r",
   "mimetype": "text/x-r-source",
   "name": "R",
   "pygments_lexer": "r",
   "version": "3.2.3"
  }
 },
 "nbformat": 4,
 "nbformat_minor": 2
}
