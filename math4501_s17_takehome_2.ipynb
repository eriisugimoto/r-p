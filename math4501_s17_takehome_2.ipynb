{
 "cells": [
  {
   "cell_type": "code",
   "execution_count": 95,
   "metadata": {},
   "outputs": [
    {
     "data": {
      "text/html": [
       "<ol class=list-inline>\n",
       "\t<li>2.857</li>\n",
       "\t<li>3.436</li>\n",
       "\t<li>3.791</li>\n",
       "\t<li>3.302</li>\n",
       "\t<li>3.104</li>\n",
       "\t<li>3.171</li>\n",
       "\t<li>3.572</li>\n",
       "\t<li>3.53</li>\n",
       "\t<li>3.175</li>\n",
       "\t<li>3.438</li>\n",
       "\t<li>3.903</li>\n",
       "\t<li>3.899</li>\n",
       "\t<li>3.401</li>\n",
       "\t<li>3.267</li>\n",
       "\t<li>3.451</li>\n",
       "\t<li>3.09</li>\n",
       "\t<li>3.413</li>\n",
       "\t<li>3.323</li>\n",
       "\t<li>3.68</li>\n",
       "\t<li>3.439</li>\n",
       "\t<li>3.853</li>\n",
       "\t<li>3.156</li>\n",
       "\t<li>3.279</li>\n",
       "\t<li>3.707</li>\n",
       "\t<li>4.006</li>\n",
       "\t<li>3.269</li>\n",
       "\t<li>3.071</li>\n",
       "\t<li>3.779</li>\n",
       "\t<li>3.548</li>\n",
       "\t<li>3.292</li>\n",
       "\t<li>3.497</li>\n",
       "\t<li>3.082</li>\n",
       "\t<li>3.248</li>\n",
       "\t<li>3.358</li>\n",
       "\t<li>3.803</li>\n",
       "\t<li>3.566</li>\n",
       "\t<li>3.145</li>\n",
       "\t<li>3.503</li>\n",
       "\t<li>3.571</li>\n",
       "\t<li>3.724</li>\n",
       "\t<li>3.615</li>\n",
       "\t<li>3.203</li>\n",
       "\t<li>3.609</li>\n",
       "\t<li>3.561</li>\n",
       "\t<li>3.979</li>\n",
       "\t<li>3.533</li>\n",
       "\t<li>3.689</li>\n",
       "\t<li>3.158</li>\n",
       "\t<li>4.005</li>\n",
       "\t<li>3.181</li>\n",
       "\t<li>3.479</li>\n",
       "\t<li>3.642</li>\n",
       "\t<li>3.632</li>\n",
       "\t<li>3.069</li>\n",
       "\t<li>3.394</li>\n",
       "\t<li>3.703</li>\n",
       "\t<li>3.165</li>\n",
       "\t<li>3.354</li>\n",
       "\t<li>3</li>\n",
       "\t<li>3.687</li>\n",
       "\t<li>3.556</li>\n",
       "\t<li>2.773</li>\n",
       "</ol>\n"
      ],
      "text/latex": [
       "\\begin{enumerate*}\n",
       "\\item 2.857\n",
       "\\item 3.436\n",
       "\\item 3.791\n",
       "\\item 3.302\n",
       "\\item 3.104\n",
       "\\item 3.171\n",
       "\\item 3.572\n",
       "\\item 3.53\n",
       "\\item 3.175\n",
       "\\item 3.438\n",
       "\\item 3.903\n",
       "\\item 3.899\n",
       "\\item 3.401\n",
       "\\item 3.267\n",
       "\\item 3.451\n",
       "\\item 3.09\n",
       "\\item 3.413\n",
       "\\item 3.323\n",
       "\\item 3.68\n",
       "\\item 3.439\n",
       "\\item 3.853\n",
       "\\item 3.156\n",
       "\\item 3.279\n",
       "\\item 3.707\n",
       "\\item 4.006\n",
       "\\item 3.269\n",
       "\\item 3.071\n",
       "\\item 3.779\n",
       "\\item 3.548\n",
       "\\item 3.292\n",
       "\\item 3.497\n",
       "\\item 3.082\n",
       "\\item 3.248\n",
       "\\item 3.358\n",
       "\\item 3.803\n",
       "\\item 3.566\n",
       "\\item 3.145\n",
       "\\item 3.503\n",
       "\\item 3.571\n",
       "\\item 3.724\n",
       "\\item 3.615\n",
       "\\item 3.203\n",
       "\\item 3.609\n",
       "\\item 3.561\n",
       "\\item 3.979\n",
       "\\item 3.533\n",
       "\\item 3.689\n",
       "\\item 3.158\n",
       "\\item 4.005\n",
       "\\item 3.181\n",
       "\\item 3.479\n",
       "\\item 3.642\n",
       "\\item 3.632\n",
       "\\item 3.069\n",
       "\\item 3.394\n",
       "\\item 3.703\n",
       "\\item 3.165\n",
       "\\item 3.354\n",
       "\\item 3\n",
       "\\item 3.687\n",
       "\\item 3.556\n",
       "\\item 2.773\n",
       "\\end{enumerate*}\n"
      ],
      "text/markdown": [
       "1. 2.857\n",
       "2. 3.436\n",
       "3. 3.791\n",
       "4. 3.302\n",
       "5. 3.104\n",
       "6. 3.171\n",
       "7. 3.572\n",
       "8. 3.53\n",
       "9. 3.175\n",
       "10. 3.438\n",
       "11. 3.903\n",
       "12. 3.899\n",
       "13. 3.401\n",
       "14. 3.267\n",
       "15. 3.451\n",
       "16. 3.09\n",
       "17. 3.413\n",
       "18. 3.323\n",
       "19. 3.68\n",
       "20. 3.439\n",
       "21. 3.853\n",
       "22. 3.156\n",
       "23. 3.279\n",
       "24. 3.707\n",
       "25. 4.006\n",
       "26. 3.269\n",
       "27. 3.071\n",
       "28. 3.779\n",
       "29. 3.548\n",
       "30. 3.292\n",
       "31. 3.497\n",
       "32. 3.082\n",
       "33. 3.248\n",
       "34. 3.358\n",
       "35. 3.803\n",
       "36. 3.566\n",
       "37. 3.145\n",
       "38. 3.503\n",
       "39. 3.571\n",
       "40. 3.724\n",
       "41. 3.615\n",
       "42. 3.203\n",
       "43. 3.609\n",
       "44. 3.561\n",
       "45. 3.979\n",
       "46. 3.533\n",
       "47. 3.689\n",
       "48. 3.158\n",
       "49. 4.005\n",
       "50. 3.181\n",
       "51. 3.479\n",
       "52. 3.642\n",
       "53. 3.632\n",
       "54. 3.069\n",
       "55. 3.394\n",
       "56. 3.703\n",
       "57. 3.165\n",
       "58. 3.354\n",
       "59. 3\n",
       "60. 3.687\n",
       "61. 3.556\n",
       "62. 2.773\n",
       "\n",
       "\n"
      ],
      "text/plain": [
       " [1] 2.857 3.436 3.791 3.302 3.104 3.171 3.572 3.530 3.175 3.438 3.903 3.899\n",
       "[13] 3.401 3.267 3.451 3.090 3.413 3.323 3.680 3.439 3.853 3.156 3.279 3.707\n",
       "[25] 4.006 3.269 3.071 3.779 3.548 3.292 3.497 3.082 3.248 3.358 3.803 3.566\n",
       "[37] 3.145 3.503 3.571 3.724 3.615 3.203 3.609 3.561 3.979 3.533 3.689 3.158\n",
       "[49] 4.005 3.181 3.479 3.642 3.632 3.069 3.394 3.703 3.165 3.354 3.000 3.687\n",
       "[61] 3.556 2.773"
      ]
     },
     "metadata": {},
     "output_type": "display_data"
    },
    {
     "data": {
      "text/html": [
       "62"
      ],
      "text/latex": [
       "62"
      ],
      "text/markdown": [
       "62"
      ],
      "text/plain": [
       "[1] 62"
      ]
     },
     "metadata": {},
     "output_type": "display_data"
    },
    {
     "data": {
      "text/html": [
       "<ol class=list-inline>\n",
       "\t<li>1027</li>\n",
       "\t<li>1235</li>\n",
       "\t<li>1260</li>\n",
       "\t<li>1165</li>\n",
       "\t<li>1080</li>\n",
       "\t<li>1127</li>\n",
       "\t<li>1270</li>\n",
       "\t<li>1252</li>\n",
       "\t<li>1200</li>\n",
       "\t<li>1290</li>\n",
       "\t<li>1334</li>\n",
       "\t<li>1380</li>\n",
       "\t<li>1140</li>\n",
       "\t<li>1243</li>\n",
       "\t<li>1340</li>\n",
       "\t<li>1168</li>\n",
       "\t<li>1322</li>\n",
       "\t<li>1249</li>\n",
       "\t<li>1321</li>\n",
       "\t<li>1192</li>\n",
       "\t<li>1373</li>\n",
       "\t<li>1170</li>\n",
       "\t<li>1265</li>\n",
       "\t<li>1235</li>\n",
       "\t<li>1302</li>\n",
       "\t<li>1241</li>\n",
       "\t<li>1078</li>\n",
       "\t<li>1520</li>\n",
       "\t<li>1460</li>\n",
       "\t<li>1075</li>\n",
       "\t<li>1280</li>\n",
       "\t<li>1180</li>\n",
       "\t<li>1250</li>\n",
       "\t<li>1190</li>\n",
       "\t<li>1374</li>\n",
       "\t<li>1306</li>\n",
       "\t<li>1202</li>\n",
       "\t<li>1240</li>\n",
       "\t<li>1316</li>\n",
       "\t<li>1280</li>\n",
       "\t<li>1350</li>\n",
       "\t<li>1180</li>\n",
       "\t<li>1210</li>\n",
       "\t<li>1127</li>\n",
       "\t<li>1324</li>\n",
       "\t<li>1210</li>\n",
       "\t<li>1290</li>\n",
       "\t<li>1100</li>\n",
       "\t<li>1280</li>\n",
       "\t<li>1175</li>\n",
       "\t<li>1160</li>\n",
       "\t<li>1205</li>\n",
       "\t<li>1163</li>\n",
       "\t<li>1022</li>\n",
       "\t<li>1243</li>\n",
       "\t<li>1350</li>\n",
       "\t<li>1237</li>\n",
       "\t<li>1204</li>\n",
       "\t<li>1090</li>\n",
       "\t<li>1355</li>\n",
       "\t<li>1250</li>\n",
       "\t<li>1076</li>\n",
       "</ol>\n"
      ],
      "text/latex": [
       "\\begin{enumerate*}\n",
       "\\item 1027\n",
       "\\item 1235\n",
       "\\item 1260\n",
       "\\item 1165\n",
       "\\item 1080\n",
       "\\item 1127\n",
       "\\item 1270\n",
       "\\item 1252\n",
       "\\item 1200\n",
       "\\item 1290\n",
       "\\item 1334\n",
       "\\item 1380\n",
       "\\item 1140\n",
       "\\item 1243\n",
       "\\item 1340\n",
       "\\item 1168\n",
       "\\item 1322\n",
       "\\item 1249\n",
       "\\item 1321\n",
       "\\item 1192\n",
       "\\item 1373\n",
       "\\item 1170\n",
       "\\item 1265\n",
       "\\item 1235\n",
       "\\item 1302\n",
       "\\item 1241\n",
       "\\item 1078\n",
       "\\item 1520\n",
       "\\item 1460\n",
       "\\item 1075\n",
       "\\item 1280\n",
       "\\item 1180\n",
       "\\item 1250\n",
       "\\item 1190\n",
       "\\item 1374\n",
       "\\item 1306\n",
       "\\item 1202\n",
       "\\item 1240\n",
       "\\item 1316\n",
       "\\item 1280\n",
       "\\item 1350\n",
       "\\item 1180\n",
       "\\item 1210\n",
       "\\item 1127\n",
       "\\item 1324\n",
       "\\item 1210\n",
       "\\item 1290\n",
       "\\item 1100\n",
       "\\item 1280\n",
       "\\item 1175\n",
       "\\item 1160\n",
       "\\item 1205\n",
       "\\item 1163\n",
       "\\item 1022\n",
       "\\item 1243\n",
       "\\item 1350\n",
       "\\item 1237\n",
       "\\item 1204\n",
       "\\item 1090\n",
       "\\item 1355\n",
       "\\item 1250\n",
       "\\item 1076\n",
       "\\end{enumerate*}\n"
      ],
      "text/markdown": [
       "1. 1027\n",
       "2. 1235\n",
       "3. 1260\n",
       "4. 1165\n",
       "5. 1080\n",
       "6. 1127\n",
       "7. 1270\n",
       "8. 1252\n",
       "9. 1200\n",
       "10. 1290\n",
       "11. 1334\n",
       "12. 1380\n",
       "13. 1140\n",
       "14. 1243\n",
       "15. 1340\n",
       "16. 1168\n",
       "17. 1322\n",
       "18. 1249\n",
       "19. 1321\n",
       "20. 1192\n",
       "21. 1373\n",
       "22. 1170\n",
       "23. 1265\n",
       "24. 1235\n",
       "25. 1302\n",
       "26. 1241\n",
       "27. 1078\n",
       "28. 1520\n",
       "29. 1460\n",
       "30. 1075\n",
       "31. 1280\n",
       "32. 1180\n",
       "33. 1250\n",
       "34. 1190\n",
       "35. 1374\n",
       "36. 1306\n",
       "37. 1202\n",
       "38. 1240\n",
       "39. 1316\n",
       "40. 1280\n",
       "41. 1350\n",
       "42. 1180\n",
       "43. 1210\n",
       "44. 1127\n",
       "45. 1324\n",
       "46. 1210\n",
       "47. 1290\n",
       "48. 1100\n",
       "49. 1280\n",
       "50. 1175\n",
       "51. 1160\n",
       "52. 1205\n",
       "53. 1163\n",
       "54. 1022\n",
       "55. 1243\n",
       "56. 1350\n",
       "57. 1237\n",
       "58. 1204\n",
       "59. 1090\n",
       "60. 1355\n",
       "61. 1250\n",
       "62. 1076\n",
       "\n",
       "\n"
      ],
      "text/plain": [
       " [1] 1027 1235 1260 1165 1080 1127 1270 1252 1200 1290 1334 1380 1140 1243 1340\n",
       "[16] 1168 1322 1249 1321 1192 1373 1170 1265 1235 1302 1241 1078 1520 1460 1075\n",
       "[31] 1280 1180 1250 1190 1374 1306 1202 1240 1316 1280 1350 1180 1210 1127 1324\n",
       "[46] 1210 1290 1100 1280 1175 1160 1205 1163 1022 1243 1350 1237 1204 1090 1355\n",
       "[61] 1250 1076"
      ]
     },
     "metadata": {},
     "output_type": "display_data"
    }
   ],
   "source": [
    "www = 'http://userhome.brooklyn.cuny.edu/cbenes/WOMEN.txt'\n",
    "women = read.table(www)\n",
    "b_m = women[,1]\n",
    "h_v = women[,2]\n",
    "b_m\n",
    "n = length(b_m)\n",
    "n\n",
    "h_v"
   ]
  },
  {
   "cell_type": "code",
   "execution_count": 96,
   "metadata": {},
   "outputs": [
    {
     "data": {
      "text/html": [
       "255.119492761033"
      ],
      "text/latex": [
       "255.119492761033"
      ],
      "text/markdown": [
       "255.119492761033"
      ],
      "text/plain": [
       "[1] 255.1195"
      ]
     },
     "metadata": {},
     "output_type": "display_data"
    }
   ],
   "source": [
    "b1_e = (n * sum(b_m * h_v) - sum(b_m) * sum(h_v))/(n * sum(b_m^2) - (sum(b_m)^2))\n",
    "b1_e"
   ]
  },
  {
   "cell_type": "code",
   "execution_count": 97,
   "metadata": {},
   "outputs": [
    {
     "data": {
      "text/html": [
       "355.121549513968"
      ],
      "text/latex": [
       "355.121549513968"
      ],
      "text/markdown": [
       "355.121549513968"
      ],
      "text/plain": [
       "[1] 355.1215"
      ]
     },
     "metadata": {},
     "output_type": "display_data"
    }
   ],
   "source": [
    "b0_e = (sum(h_v) - b1_e * sum(b_m))/n\n",
    "b0_e"
   ]
  },
  {
   "cell_type": "code",
   "execution_count": 98,
   "metadata": {},
   "outputs": [
    {
     "data": {
      "text/html": [
       "69.4100533550155"
      ],
      "text/latex": [
       "69.4100533550155"
      ],
      "text/markdown": [
       "69.4100533550155"
      ],
      "text/plain": [
       "[1] 69.41005"
      ]
     },
     "metadata": {},
     "output_type": "display_data"
    }
   ],
   "source": [
    "s = sqrt(1/(n-2) * sum((h_v - b0_e - b1_e * b_m)^2))\n",
    "s"
   ]
  },
  {
   "cell_type": "code",
   "execution_count": 99,
   "metadata": {},
   "outputs": [
    {
     "data": {
      "text/html": [
       "8.17497432197058"
      ],
      "text/latex": [
       "8.17497432197058"
      ],
      "text/markdown": [
       "8.17497432197058"
      ],
      "text/plain": [
       "[1] 8.174974"
      ]
     },
     "metadata": {},
     "output_type": "display_data"
    }
   ],
   "source": [
    "t = b1_e * sqrt(sum((b_m - mean(b_m))^2)) / s\n",
    "t"
   ]
  },
  {
   "cell_type": "code",
   "execution_count": 100,
   "metadata": {},
   "outputs": [
    {
     "data": {
      "text/html": [
       "-1.67064886490464"
      ],
      "text/latex": [
       "-1.67064886490464"
      ],
      "text/markdown": [
       "-1.67064886490464"
      ],
      "text/plain": [
       "[1] -1.670649"
      ]
     },
     "metadata": {},
     "output_type": "display_data"
    }
   ],
   "source": [
    "t_theo = qt(0.05, n - 2)\n",
    "t_theo"
   ]
  },
  {
   "cell_type": "markdown",
   "metadata": {},
   "source": [
    "Since t > t_score, we reject H_0, suggesting that there is strong evidece that there is a linear relationship between brain mass and head volume."
   ]
  },
  {
   "cell_type": "code",
   "execution_count": 101,
   "metadata": {},
   "outputs": [
    {
     "data": {
      "text/html": [
       "2.00029782201426"
      ],
      "text/latex": [
       "2.00029782201426"
      ],
      "text/markdown": [
       "2.00029782201426"
      ],
      "text/plain": [
       "[1] 2.000298"
      ]
     },
     "metadata": {},
     "output_type": "display_data"
    }
   ],
   "source": [
    "t_theo_2 = qt(0.975, n - 2)\n",
    "t_theo_2"
   ]
  },
  {
   "cell_type": "code",
   "execution_count": 102,
   "metadata": {},
   "outputs": [
    {
     "data": {
      "text/html": [
       "140.283412745165"
      ],
      "text/latex": [
       "140.283412745165"
      ],
      "text/markdown": [
       "140.283412745165"
      ],
      "text/plain": [
       "[1] 140.2834"
      ]
     },
     "metadata": {},
     "output_type": "display_data"
    }
   ],
   "source": [
    "given_x = 3.6\n",
    "w = t_theo_2 * s * sqrt(1 + (1 / n) + (given_x - mean(b_m))^2 / sum((b_m - mean(b_m))^2))\n",
    "w"
   ]
  },
  {
   "cell_type": "code",
   "execution_count": 103,
   "metadata": {},
   "outputs": [
    {
     "data": {
      "text/html": [
       "1273.55172345368"
      ],
      "text/latex": [
       "1273.55172345368"
      ],
      "text/markdown": [
       "1273.55172345368"
      ],
      "text/plain": [
       "[1] 1273.552"
      ]
     },
     "metadata": {},
     "output_type": "display_data"
    }
   ],
   "source": [
    "y_e = b0_e + b1_e * given_x\n",
    "y_e"
   ]
  },
  {
   "cell_type": "code",
   "execution_count": 104,
   "metadata": {},
   "outputs": [
    {
     "data": {
      "text/html": [
       "1133.26831070852"
      ],
      "text/latex": [
       "1133.26831070852"
      ],
      "text/markdown": [
       "1133.26831070852"
      ],
      "text/plain": [
       "[1] 1133.268"
      ]
     },
     "metadata": {},
     "output_type": "display_data"
    }
   ],
   "source": [
    "y_e - w"
   ]
  },
  {
   "cell_type": "code",
   "execution_count": 105,
   "metadata": {},
   "outputs": [
    {
     "data": {
      "text/html": [
       "1413.83513619885"
      ],
      "text/latex": [
       "1413.83513619885"
      ],
      "text/markdown": [
       "1413.83513619885"
      ],
      "text/plain": [
       "[1] 1413.835"
      ]
     },
     "metadata": {},
     "output_type": "display_data"
    }
   ],
   "source": [
    "y_e + w"
   ]
  },
  {
   "cell_type": "code",
   "execution_count": 109,
   "metadata": {},
   "outputs": [
    {
     "data": {
      "text/html": [
       "3.44654838709677"
      ],
      "text/latex": [
       "3.44654838709677"
      ],
      "text/markdown": [
       "3.44654838709677"
      ],
      "text/plain": [
       "[1] 3.446548"
      ]
     },
     "metadata": {},
     "output_type": "display_data"
    }
   ],
   "source": [
    "m = mean(b_m)\n",
    "m"
   ]
  },
  {
   "cell_type": "code",
   "execution_count": 110,
   "metadata": {},
   "outputs": [
    {
     "data": {
      "text/html": [
       "0.284773921110935"
      ],
      "text/latex": [
       "0.284773921110935"
      ],
      "text/markdown": [
       "0.284773921110935"
      ],
      "text/plain": [
       "[1] 0.2847739"
      ]
     },
     "metadata": {},
     "output_type": "display_data"
    }
   ],
   "source": [
    "sd = sd(b_m)\n",
    "sd"
   ]
  },
  {
   "cell_type": "code",
   "execution_count": null,
   "metadata": {},
   "outputs": [],
   "source": []
  }
 ],
 "metadata": {
  "kernelspec": {
   "display_name": "R",
   "language": "R",
   "name": "ir"
  },
  "language_info": {
   "codemirror_mode": "r",
   "file_extension": ".r",
   "mimetype": "text/x-r-source",
   "name": "R",
   "pygments_lexer": "r",
   "version": "3.2.3"
  }
 },
 "nbformat": 4,
 "nbformat_minor": 2
}
